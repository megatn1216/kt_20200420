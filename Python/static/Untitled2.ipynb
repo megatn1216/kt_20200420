{
 "cells": [
  {
   "cell_type": "code",
   "execution_count": 6,
   "metadata": {},
   "outputs": [],
   "source": [
    "from konlpy.tag import Kkma\n",
    "kkma = Kkma()\n",
    "lyrics=\"\"\"\n",
    "모두 제정신이 아니야\n",
    "다들 미쳐가고만 있어\n",
    "어느 누굴 믿어 어찌믿어 더는 못믿어\n",
    "누가 누굴 욕하는거야\n",
    "그러는 넌 얼마나 깨끗해\n",
    "너나 할것없이 세상속에 속물들이야\n",
    "바꿔 바꿔 바꿔 내 모든걸 다 바꿔\n",
    "바꿔 바꿔 사랑도 다 바꿔\n",
    "바꿔 바꿔 거짓은 다 바꿔\n",
    "바꿔 바꿔 세상 을 다 바꿔\n",
    "너의 가식적인 사랑\n",
    "나를 다시 사랑하길 바래\n",
    "내가 다시 돌아오길 바래\n",
    "그럼 바꾸길 바래\n",
    "늦기전에 날 잡길 바래\n",
    "한 여자의 지난 과거가\n",
    "왜 용서받지 못할 일이야\n",
    "맘에 걸렸다면 처음부터 왜 날 사랑해\n",
    "모든 것이 변해버렸어\n",
    "예전의 나로 착각하지마\n",
    "나를 버린것을 후회해도 이미 늦었어\n",
    "바꿔 바꿔 바꿔 내 모든걸 다 바꿔\n",
    "바꿔 바꿔 사랑도 다 바꿔\n",
    "바꿔 바꿔 거짓은 다 바꿔\n",
    "바꿔 바꿔 세상 을 다 바꿔\n",
    "바꿔 바꿔 바꿔 내 모든걸 다 바꿔\n",
    "바꿔 바꿔 사랑도 다 바꿔\n",
    "바꿔 바꿔 거짓은 다 바꿔\n",
    "바꿔 바꿔 세상 을 다 바꿔\n",
    "\"\"\""
   ]
  },
  {
   "cell_type": "code",
   "execution_count": 10,
   "metadata": {},
   "outputs": [
    {
     "data": {
      "text/plain": [
       "['제정신',\n",
       " '다',\n",
       " '누',\n",
       " '세상',\n",
       " '속',\n",
       " '속물',\n",
       " '사랑',\n",
       " '거짓',\n",
       " '세상',\n",
       " '을',\n",
       " '가식',\n",
       " '사랑',\n",
       " '사랑',\n",
       " '날',\n",
       " '여자',\n",
       " '과거',\n",
       " '용서',\n",
       " '일',\n",
       " '맘',\n",
       " '처음',\n",
       " '사랑',\n",
       " '예전',\n",
       " '나로',\n",
       " '착각',\n",
       " '마',\n",
       " '후회',\n",
       " '사랑',\n",
       " '거짓',\n",
       " '세상',\n",
       " '을',\n",
       " '사랑',\n",
       " '거짓',\n",
       " '세상',\n",
       " '을']"
      ]
     },
     "execution_count": 10,
     "metadata": {},
     "output_type": "execute_result"
    }
   ],
   "source": [
    "words = kkma.pos(lyrics)\n",
    "words = [w[0] for w in words if w[1] == 'NNG']\n",
    "words"
   ]
  },
  {
   "cell_type": "code",
   "execution_count": 12,
   "metadata": {},
   "outputs": [
    {
     "data": {
      "text/plain": [
       "{'제정신': 1,\n",
       " '다': 1,\n",
       " '누': 1,\n",
       " '세상': 4,\n",
       " '속': 1,\n",
       " '속물': 1,\n",
       " '사랑': 6,\n",
       " '거짓': 3,\n",
       " '을': 3,\n",
       " '가식': 1,\n",
       " '날': 1,\n",
       " '여자': 1,\n",
       " '과거': 1,\n",
       " '용서': 1,\n",
       " '일': 1,\n",
       " '맘': 1,\n",
       " '처음': 1,\n",
       " '예전': 1,\n",
       " '나로': 1,\n",
       " '착각': 1,\n",
       " '마': 1,\n",
       " '후회': 1}"
      ]
     },
     "execution_count": 12,
     "metadata": {},
     "output_type": "execute_result"
    }
   ],
   "source": [
    "dict={}\n",
    "\n",
    "for i in words:\n",
    "    if i not in dict:\n",
    "        dict[i]=1\n",
    "    else:\n",
    "        dict[i]+=1\n",
    "\n",
    "dict"
   ]
  },
  {
   "cell_type": "code",
   "execution_count": null,
   "metadata": {},
   "outputs": [],
   "source": []
  }
 ],
 "metadata": {
  "kernelspec": {
   "display_name": "Python 3",
   "language": "python",
   "name": "python3"
  },
  "language_info": {
   "codemirror_mode": {
    "name": "ipython",
    "version": 3
   },
   "file_extension": ".py",
   "mimetype": "text/x-python",
   "name": "python",
   "nbconvert_exporter": "python",
   "pygments_lexer": "ipython3",
   "version": "3.7.6"
  }
 },
 "nbformat": 4,
 "nbformat_minor": 4
}
