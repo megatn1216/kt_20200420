{
 "cells": [
  {
   "cell_type": "code",
   "execution_count": 1,
   "metadata": {},
   "outputs": [],
   "source": [
    "lyrics=\"\"\"\n",
    "When I find myself in times of trouble\n",
    "Mother Mary comes to me\n",
    "Speaking words of wisdom, let it be.\n",
    "And in my hour of darkness\n",
    "She is standing right in front of me\n",
    "Speaking words of wisdom, let it be.\n",
    "Let it be, let it be.\n",
    "Whisper words of wisdom, let it be.\n",
    "And when the broken hearted people\n",
    "Living in the world agree,\n",
    "There will be an answer, let it be.\n",
    "For though they may be parted there is\n",
    "Still a chance that they will see\n",
    "There will be an answer, let it be\n",
    "Let it be, let it be. Yeah\n",
    "There will be an answer, let it be.\n",
    "And when the night is cloudy,\n",
    "There is still a light that shines on me,\n",
    "Shine on until tomorrow, let it be.\n",
    "I wake up to the sound of music\n",
    "Mother Mary comes to me\n",
    "Speaking words of wisdom, let it be.\n",
    "Let it be, let it be.\n",
    "There will be an answer, let it be.\n",
    "Let it be, let it be,\n",
    "Whisper words of wisdom, let it be.\n",
    "\"\"\""
   ]
  },
  {
   "cell_type": "code",
   "execution_count": 2,
   "metadata": {},
   "outputs": [
    {
     "data": {
      "text/plain": [
       "'\\nWhen I find myself in times of trouble\\nMother Mary comes to me\\nSpeaking words of wisdom, let it be.\\nAnd in my hour of darkness\\nShe is standing right in front of me\\nSpeaking words of wisdom, let it be.\\nLet it be, let it be.\\nWhisper words of wisdom, let it be.\\nAnd when the broken hearted people\\nLiving in the world agree,\\nThere will be an answer, let it be.\\nFor though they may be parted there is\\nStill a chance that they will see\\nThere will be an answer, let it be\\nLet it be, let it be. Yeah\\nThere will be an answer, let it be.\\nAnd when the night is cloudy,\\nThere is still a light that shines on me,\\nShine on until tomorrow, let it be.\\nI wake up to the sound of music\\nMother Mary comes to me\\nSpeaking words of wisdom, let it be.\\nLet it be, let it be.\\nThere will be an answer, let it be.\\nLet it be, let it be,\\nWhisper words of wisdom, let it be.\\n'"
      ]
     },
     "execution_count": 2,
     "metadata": {},
     "output_type": "execute_result"
    }
   ],
   "source": [
    "lyrics"
   ]
  },
  {
   "cell_type": "code",
   "execution_count": 15,
   "metadata": {},
   "outputs": [],
   "source": [
    "lyrics = lyrics.replace(',','').replace('.','')"
   ]
  },
  {
   "cell_type": "code",
   "execution_count": 5,
   "metadata": {},
   "outputs": [],
   "source": [
    "# lyrics = lyrics.lower().replace('\\n',' ')\n",
    "# chrs = set(lyrics) - set('abcdefghijklmnopqrstuvwxyz')\n",
    "words = lyrics.split(' ')"
   ]
  },
  {
   "cell_type": "code",
   "execution_count": 10,
   "metadata": {},
   "outputs": [],
   "source": [
    "word_dict={}\n",
    "for word in words:\n",
    "    if word not in word_dict:\n",
    "        word_dict={'word': word, 'count' : words.count(word)}"
   ]
  },
  {
   "cell_type": "code",
   "execution_count": 12,
   "metadata": {},
   "outputs": [
    {
     "name": "stdout",
     "output_type": "stream",
     "text": [
      "{'word': 'be\\n', 'count': 1}\n"
     ]
    }
   ],
   "source": [
    "print(word_dict)"
   ]
  },
  {
   "cell_type": "code",
   "execution_count": 13,
   "metadata": {},
   "outputs": [],
   "source": [
    "word_dict={}\n",
    "for word in words:\n",
    "    if word not in word_dict:\n",
    "        word_dict[word]=1\n",
    "    else:\n",
    "        word_dict[word]+=1"
   ]
  },
  {
   "cell_type": "code",
   "execution_count": 14,
   "metadata": {},
   "outputs": [
    {
     "name": "stdout",
     "output_type": "stream",
     "text": [
      "{'\\nWhen': 1, 'I': 1, 'find': 1, 'myself': 1, 'in': 4, 'times': 1, 'of': 9, 'trouble\\nMother': 1, 'Mary': 2, 'comes': 2, 'to': 3, 'me\\nSpeaking': 3, 'words': 5, 'wisdom': 5, 'let': 14, 'it': 18, 'be\\nAnd': 3, 'my': 1, 'hour': 1, 'darkness\\nShe': 1, 'is': 3, 'standing': 1, 'right': 1, 'front': 1, 'be\\nLet': 4, 'be': 10, 'be\\nWhisper': 2, 'when': 2, 'the': 4, 'broken': 1, 'hearted': 1, 'people\\nLiving': 1, 'world': 1, 'agree\\nThere': 1, 'will': 5, 'an': 4, 'answer': 4, 'be\\nFor': 1, 'though': 1, 'they': 2, 'may': 1, 'parted': 1, 'there': 1, 'is\\nStill': 1, 'a': 2, 'chance': 1, 'that': 2, 'see\\nThere': 1, 'Yeah\\nThere': 1, 'night': 1, 'cloudy\\nThere': 1, 'still': 1, 'light': 1, 'shines': 1, 'on': 2, 'me\\nShine': 1, 'until': 1, 'tomorrow': 1, 'be\\nI': 1, 'wake': 1, 'up': 1, 'sound': 1, 'music\\nMother': 1, 'be\\nThere': 1, 'be\\n': 1}\n"
     ]
    }
   ],
   "source": [
    "print(word_dict)"
   ]
  },
  {
   "cell_type": "code",
   "execution_count": 16,
   "metadata": {},
   "outputs": [],
   "source": [
    "def add(a,b):\n",
    "    return a+b"
   ]
  },
  {
   "cell_type": "code",
   "execution_count": 17,
   "metadata": {},
   "outputs": [
    {
     "data": {
      "text/plain": [
       "53"
      ]
     },
     "execution_count": 17,
     "metadata": {},
     "output_type": "execute_result"
    }
   ],
   "source": [
    "add(3,50)"
   ]
  },
  {
   "cell_type": "code",
   "execution_count": 18,
   "metadata": {},
   "outputs": [],
   "source": [
    "add2 = lambda a,b: a+b"
   ]
  },
  {
   "cell_type": "code",
   "execution_count": 19,
   "metadata": {},
   "outputs": [
    {
     "data": {
      "text/plain": [
       "8"
      ]
     },
     "execution_count": 19,
     "metadata": {},
     "output_type": "execute_result"
    }
   ],
   "source": [
    "add2(3,5)"
   ]
  },
  {
   "cell_type": "code",
   "execution_count": 23,
   "metadata": {},
   "outputs": [
    {
     "data": {
      "text/plain": [
       "[{'id': 'egoing', '영어': 90, '수학': 70},\n",
       " {'id': 'sookbun', '영어': 60, '수학': 80},\n",
       " {'id': 'duru', '영어': 100, '수학': 90}]"
      ]
     },
     "execution_count": 23,
     "metadata": {},
     "output_type": "execute_result"
    }
   ],
   "source": [
    "members = [\n",
    "    {'id': 'sookbun', '영어' : 60, '수학' : 80},\n",
    "    {'id': 'duru', '영어' : 100, '수학' : 90},\n",
    "    {'id': 'egoing', '영어' : 90, '수학' : 70},\n",
    "    ]\n",
    "sorted(members, key=lambda x:x['수학'])"
   ]
  },
  {
   "cell_type": "code",
   "execution_count": 24,
   "metadata": {},
   "outputs": [
    {
     "data": {
      "text/plain": [
       "[140, 190, 160]"
      ]
     },
     "execution_count": 24,
     "metadata": {},
     "output_type": "execute_result"
    }
   ],
   "source": [
    "list(map(lambda x: (x['수학'] + x['영어']), members))"
   ]
  },
  {
   "cell_type": "code",
   "execution_count": 25,
   "metadata": {},
   "outputs": [
    {
     "data": {
      "text/plain": [
       "[{'id': 'duru', '영어': 100, '수학': 90}, {'id': 'egoing', '영어': 90, '수학': 70}]"
      ]
     },
     "execution_count": 25,
     "metadata": {},
     "output_type": "execute_result"
    }
   ],
   "source": [
    "list(filter(lambda x: x['영어'] >=90, members))"
   ]
  },
  {
   "cell_type": "code",
   "execution_count": 26,
   "metadata": {},
   "outputs": [
    {
     "data": {
      "text/plain": [
       "[('\\nWhen', 1),\n",
       " ('I', 1),\n",
       " ('find', 1),\n",
       " ('myself', 1),\n",
       " ('in', 4),\n",
       " ('times', 1),\n",
       " ('of', 9),\n",
       " ('trouble\\nMother', 1),\n",
       " ('Mary', 2),\n",
       " ('comes', 2),\n",
       " ('to', 3),\n",
       " ('me\\nSpeaking', 3),\n",
       " ('words', 5),\n",
       " ('wisdom', 5),\n",
       " ('let', 14),\n",
       " ('it', 18),\n",
       " ('be\\nAnd', 3),\n",
       " ('my', 1),\n",
       " ('hour', 1),\n",
       " ('darkness\\nShe', 1),\n",
       " ('is', 3),\n",
       " ('standing', 1),\n",
       " ('right', 1),\n",
       " ('front', 1),\n",
       " ('be\\nLet', 4),\n",
       " ('be', 10),\n",
       " ('be\\nWhisper', 2),\n",
       " ('when', 2),\n",
       " ('the', 4),\n",
       " ('broken', 1),\n",
       " ('hearted', 1),\n",
       " ('people\\nLiving', 1),\n",
       " ('world', 1),\n",
       " ('agree\\nThere', 1),\n",
       " ('will', 5),\n",
       " ('an', 4),\n",
       " ('answer', 4),\n",
       " ('be\\nFor', 1),\n",
       " ('though', 1),\n",
       " ('they', 2),\n",
       " ('may', 1),\n",
       " ('parted', 1),\n",
       " ('there', 1),\n",
       " ('is\\nStill', 1),\n",
       " ('a', 2),\n",
       " ('chance', 1),\n",
       " ('that', 2),\n",
       " ('see\\nThere', 1),\n",
       " ('Yeah\\nThere', 1),\n",
       " ('night', 1),\n",
       " ('cloudy\\nThere', 1),\n",
       " ('still', 1),\n",
       " ('light', 1),\n",
       " ('shines', 1),\n",
       " ('on', 2),\n",
       " ('me\\nShine', 1),\n",
       " ('until', 1),\n",
       " ('tomorrow', 1),\n",
       " ('be\\nI', 1),\n",
       " ('wake', 1),\n",
       " ('up', 1),\n",
       " ('sound', 1),\n",
       " ('music\\nMother', 1),\n",
       " ('be\\nThere', 1),\n",
       " ('be\\n', 1)]"
      ]
     },
     "execution_count": 26,
     "metadata": {},
     "output_type": "execute_result"
    }
   ],
   "source": [
    "list(word_dict.items())"
   ]
  },
  {
   "cell_type": "code",
   "execution_count": 27,
   "metadata": {},
   "outputs": [
    {
     "name": "stdout",
     "output_type": "stream",
     "text": [
      "[('the', 4), ('an', 4), ('answer', 4), ('words', 5), ('wisdom', 5), ('will', 5), ('of', 9), ('be', 10), ('let', 14), ('it', 18)]\n"
     ]
    }
   ],
   "source": [
    "sorted_dict = sorted(word_dict.items(), key=lambda x : x[1])\n",
    "print(sorted_dict[-10:])"
   ]
  },
  {
   "cell_type": "code",
   "execution_count": 4,
   "metadata": {},
   "outputs": [
    {
     "name": "stdout",
     "output_type": "stream",
     "text": [
      "Requirement already satisfied: konlpy in c:\\users\\user\\anaconda3\\lib\\site-packages (0.5.2)\n",
      "Requirement already satisfied: colorama in c:\\users\\user\\anaconda3\\lib\\site-packages (from konlpy) (0.4.3)\n",
      "Requirement already satisfied: lxml>=4.1.0 in c:\\users\\user\\anaconda3\\lib\\site-packages (from konlpy) (4.5.0)\n",
      "Requirement already satisfied: JPype1>=0.7.0 in c:\\users\\user\\anaconda3\\lib\\site-packages (from konlpy) (0.7.2)\n",
      "Requirement already satisfied: beautifulsoup4==4.6.0 in c:\\users\\user\\anaconda3\\lib\\site-packages (from konlpy) (4.6.0)\n",
      "Requirement already satisfied: numpy>=1.6 in c:\\users\\user\\anaconda3\\lib\\site-packages (from konlpy) (1.18.1)\n",
      "Requirement already satisfied: tweepy>=3.7.0 in c:\\users\\user\\anaconda3\\lib\\site-packages (from konlpy) (3.8.0)\n",
      "Requirement already satisfied: requests>=2.11.1 in c:\\users\\user\\anaconda3\\lib\\site-packages (from tweepy>=3.7.0->konlpy) (2.22.0)\n",
      "Requirement already satisfied: PySocks>=1.5.7 in c:\\users\\user\\anaconda3\\lib\\site-packages (from tweepy>=3.7.0->konlpy) (1.7.1)\n",
      "Requirement already satisfied: requests-oauthlib>=0.7.0 in c:\\users\\user\\anaconda3\\lib\\site-packages (from tweepy>=3.7.0->konlpy) (1.3.0)\n",
      "Requirement already satisfied: six>=1.10.0 in c:\\users\\user\\anaconda3\\lib\\site-packages (from tweepy>=3.7.0->konlpy) (1.14.0)\n",
      "Requirement already satisfied: certifi>=2017.4.17 in c:\\users\\user\\anaconda3\\lib\\site-packages (from requests>=2.11.1->tweepy>=3.7.0->konlpy) (2019.11.28)\n",
      "Requirement already satisfied: idna<2.9,>=2.5 in c:\\users\\user\\anaconda3\\lib\\site-packages (from requests>=2.11.1->tweepy>=3.7.0->konlpy) (2.8)\n",
      "Requirement already satisfied: urllib3!=1.25.0,!=1.25.1,<1.26,>=1.21.1 in c:\\users\\user\\anaconda3\\lib\\site-packages (from requests>=2.11.1->tweepy>=3.7.0->konlpy) (1.25.8)\n",
      "Requirement already satisfied: chardet<3.1.0,>=3.0.2 in c:\\users\\user\\anaconda3\\lib\\site-packages (from requests>=2.11.1->tweepy>=3.7.0->konlpy) (3.0.4)\n",
      "Requirement already satisfied: oauthlib>=3.0.0 in c:\\users\\user\\anaconda3\\lib\\site-packages (from requests-oauthlib>=0.7.0->tweepy>=3.7.0->konlpy) (3.1.0)\n"
     ]
    }
   ],
   "source": [
    "!pip install konlpy"
   ]
  },
  {
   "cell_type": "code",
   "execution_count": null,
   "metadata": {},
   "outputs": [],
   "source": []
  }
 ],
 "metadata": {
  "kernelspec": {
   "display_name": "Python 3",
   "language": "python",
   "name": "python3"
  },
  "language_info": {
   "codemirror_mode": {
    "name": "ipython",
    "version": 3
   },
   "file_extension": ".py",
   "mimetype": "text/x-python",
   "name": "python",
   "nbconvert_exporter": "python",
   "pygments_lexer": "ipython3",
   "version": "3.7.6"
  }
 },
 "nbformat": 4,
 "nbformat_minor": 4
}
